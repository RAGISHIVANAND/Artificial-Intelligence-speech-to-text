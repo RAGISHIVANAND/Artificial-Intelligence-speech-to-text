{
  "nbformat": 4,
  "nbformat_minor": 0,
  "metadata": {
    "colab": {
      "provenance": []
    },
    "kernelspec": {
      "name": "python3",
      "display_name": "Python 3"
    },
    "language_info": {
      "name": "python"
    }
  },
  "cells": [
    {
      "cell_type": "markdown",
      "source": [
        "To import audio r speech in wav format and convert it to text in Google Colab, you can use the SpeechRecognition library, which provides an interface for various speech recognition engines. Here's a step-by-step guide:\n",
        "\n",
        "Install the required libraries: In a code cell in your Colab notebook, install the SpeechRecognition library using pip:"
      ],
      "metadata": {
        "id": "gHdxYuuCL8PF"
      }
    },
    {
      "cell_type": "code",
      "execution_count": 23,
      "metadata": {
        "colab": {
          "base_uri": "https://localhost:8080/"
        },
        "id": "NsfravehENIM",
        "outputId": "8bca9883-ff63-4263-f857-41da339d34b8"
      },
      "outputs": [
        {
          "output_type": "stream",
          "name": "stdout",
          "text": [
            "Requirement already satisfied: SpeechRecognition in /usr/local/lib/python3.10/dist-packages (3.10.0)\n",
            "Requirement already satisfied: requests>=2.26.0 in /usr/local/lib/python3.10/dist-packages (from SpeechRecognition) (2.27.1)\n",
            "Requirement already satisfied: urllib3<1.27,>=1.21.1 in /usr/local/lib/python3.10/dist-packages (from requests>=2.26.0->SpeechRecognition) (1.26.16)\n",
            "Requirement already satisfied: certifi>=2017.4.17 in /usr/local/lib/python3.10/dist-packages (from requests>=2.26.0->SpeechRecognition) (2023.5.7)\n",
            "Requirement already satisfied: charset-normalizer~=2.0.0 in /usr/local/lib/python3.10/dist-packages (from requests>=2.26.0->SpeechRecognition) (2.0.12)\n",
            "Requirement already satisfied: idna<4,>=2.5 in /usr/local/lib/python3.10/dist-packages (from requests>=2.26.0->SpeechRecognition) (3.4)\n"
          ]
        }
      ],
      "source": [
        "!pip install SpeechRecognition\n",
        "\n"
      ]
    },
    {
      "cell_type": "markdown",
      "source": [
        "import the necessary modules: In the next code cell, import the SpeechRecognition library and the IPython library to display audio files:"
      ],
      "metadata": {
        "id": "Kq-vhuRdME_4"
      }
    },
    {
      "cell_type": "code",
      "source": [
        "import speech_recognition as sr\n",
        "from IPython.display import Audio\n",
        "\n"
      ],
      "metadata": {
        "id": "2xq15b62ESpF"
      },
      "execution_count": 24,
      "outputs": []
    },
    {
      "cell_type": "markdown",
      "source": [
        "Import the audio file: In the Colab notebook, use the file upload feature to upload the audio file you want to transcribe. You can click on the \"Files\" tab in the left sidebar, click \"Upload,\" and select the audio file from your local machine.\n",
        "\n",
        "Transcribe the audio: In the next code cell, use the SpeechRecognition library to transcribe the uploaded audio file:\n",
        "\n",
        "\n",
        "Make sure to replace \"/content/audio_file.wav\" with the actual path to your uploaded audio file.\n",
        "\n",
        "Run the code: Execute the code cell to perform the audio-to-text transcription. The SpeechRecognition library will process the audio file and convert it into text using the Google Speech Recognition engine.\n",
        "By following these steps, you can import audio into Google Colab and transcribe it into text using the SpeechRecognition library."
      ],
      "metadata": {
        "id": "AIRr37bgMOKc"
      }
    },
    {
      "cell_type": "code",
      "source": [
        "# Create a recognizer instance\n",
        "r = sr.Recognizer()\n",
        "\n",
        "# Specify the path to the uploaded audio file\n",
        "audio_path = \"/content/12345.wav\"\n",
        "\n",
        "# Load the audio file\n",
        "with sr.AudioFile(audio_path) as source:\n",
        "    audio = r.record(source)\n",
        "\n",
        "# Transcribe the audio\n",
        "text = r.recognize_google(audio)\n",
        "\n",
        "# Print the transcription\n",
        "print(\"Transcription:\")\n",
        "print(text)\n"
      ],
      "metadata": {
        "colab": {
          "base_uri": "https://localhost:8080/"
        },
        "id": "2TPJtnZ6E7LM",
        "outputId": "8f11e69b-c591-404a-b55d-ee4676f45f53"
      },
      "execution_count": 30,
      "outputs": [
        {
          "output_type": "stream",
          "name": "stdout",
          "text": [
            "Transcription:\n",
            "hello how are you\n"
          ]
        }
      ]
    },
    {
      "cell_type": "markdown",
      "source": [
        "Import the audio file: In the Colab notebook, use the file upload feature to upload the audio file you want to transcribe. You can click on the \"Files\" tab in the left sidebar, click \"Upload,\" and select the audio file from your local machine.\n",
        "\n",
        "Transcribe the audio: In the next code cell, use the SpeechRecognition library to transcribe the uploaded audio file:\n",
        "\n",
        "Make sure to replace \"/content/audio_file.wav\" with the actual path to your uploaded audio file.\n",
        "\n",
        "Run the code: Execute the code cell to perform the audio-to-text transcription. The SpeechRecognition library will process the audio file and convert it into text using the Google Speech Recognition engine. By following these steps, you can import audio into Google Colab and transcribe it into text using the SpeechRecognition library."
      ],
      "metadata": {
        "id": "brc9c3neMZPN"
      }
    },
    {
      "cell_type": "code",
      "source": [
        "#@title Default title text\n",
        "# Create a recognizer instance\n",
        "r = sr.Recognizer()\n",
        "\n",
        "# Specify the path to the uploaded audio file\n",
        "audio_path = \"/content/Dream Big 12345.wav\"\n",
        "\n",
        "# Load the audio file\n",
        "with sr.AudioFile(audio_path) as source:\n",
        "    audio = r.record(source)\n",
        "\n",
        "# Transcribe the audio\n",
        "text = r.recognize_google(audio)\n",
        "\n",
        "# Print the transcription\n",
        "print(\"Transcription:\")\n",
        "print(text)\n"
      ],
      "metadata": {
        "colab": {
          "base_uri": "https://localhost:8080/"
        },
        "id": "gP-98VnPE-aF",
        "outputId": "152ba458-170c-4911-a30c-2bb1f75350af"
      },
      "execution_count": 32,
      "outputs": [
        {
          "output_type": "stream",
          "name": "stdout",
          "text": [
            "Transcription:\n",
            "please dream big I'm sorry if the speech is too boring but I just want to say dream big do not give a break keep working hard keep working hard it's okay so if someone is laughing at you it's okay if someone is pulling your leg pulling you back down it's okay you just keep working hard you just keep looking up at the sky and reach your goals no matter what anyone else says because if you cannot protect yourself and dream for yourself nobody else can truly trust me I've been there I've done that and now I'm in the process of getting there and I think I'll get there pretty soon I hope you reach your dreams you make your dreams come true thank you\n"
          ]
        }
      ]
    }
  ]
}